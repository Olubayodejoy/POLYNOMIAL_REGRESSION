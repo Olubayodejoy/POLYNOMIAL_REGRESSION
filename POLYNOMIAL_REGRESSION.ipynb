{
  "nbformat": 4,
  "nbformat_minor": 0,
  "metadata": {
    "colab": {
      "provenance": []
    },
    "kernelspec": {
      "name": "python3",
      "display_name": "Python 3"
    },
    "language_info": {
      "name": "python"
    }
  },
  "cells": [
    {
      "cell_type": "markdown",
      "source": [
        "**POLYNOMIAL REGRESSION**"
      ],
      "metadata": {
        "id": "fdzq9CXGnQi2"
      }
    },
    {
      "cell_type": "code",
      "source": [
        "import numpy as np\n",
        "np.random.rand(100,1)"
      ],
      "metadata": {
        "colab": {
          "base_uri": "https://localhost:8080/"
        },
        "id": "QyKWK5EAnYGz",
        "outputId": "f25323f1-3a71-44f2-d7a1-a8356078b0d6"
      },
      "execution_count": null,
      "outputs": [
        {
          "output_type": "execute_result",
          "data": {
            "text/plain": [
              "array([[0.89189556],\n",
              "       [0.67304437],\n",
              "       [0.63290979],\n",
              "       [0.74269498],\n",
              "       [0.8570202 ],\n",
              "       [0.75671726],\n",
              "       [0.47051278],\n",
              "       [0.69466953],\n",
              "       [0.9731826 ],\n",
              "       [0.6141964 ],\n",
              "       [0.28537532],\n",
              "       [0.43905401],\n",
              "       [0.11501428],\n",
              "       [0.94358969],\n",
              "       [0.07221198],\n",
              "       [0.39852123],\n",
              "       [0.55987697],\n",
              "       [0.00668355],\n",
              "       [0.97233152],\n",
              "       [0.05864132],\n",
              "       [0.43620613],\n",
              "       [0.43891399],\n",
              "       [0.65921521],\n",
              "       [0.47408629],\n",
              "       [0.35203823],\n",
              "       [0.68037755],\n",
              "       [0.11531105],\n",
              "       [0.18374332],\n",
              "       [0.59962469],\n",
              "       [0.84257786],\n",
              "       [0.29545044],\n",
              "       [0.67686673],\n",
              "       [0.47423631],\n",
              "       [0.16137061],\n",
              "       [0.97327636],\n",
              "       [0.62726845],\n",
              "       [0.91393316],\n",
              "       [0.28831085],\n",
              "       [0.22352202],\n",
              "       [0.89672422],\n",
              "       [0.79131402],\n",
              "       [0.48169967],\n",
              "       [0.02421324],\n",
              "       [0.57388629],\n",
              "       [0.57131483],\n",
              "       [0.21799475],\n",
              "       [0.25588253],\n",
              "       [0.09877076],\n",
              "       [0.62440877],\n",
              "       [0.10295299],\n",
              "       [0.6932972 ],\n",
              "       [0.75458779],\n",
              "       [0.11536838],\n",
              "       [0.07225825],\n",
              "       [0.89111882],\n",
              "       [0.47352483],\n",
              "       [0.38949972],\n",
              "       [0.20930089],\n",
              "       [0.74137428],\n",
              "       [0.2267092 ],\n",
              "       [0.98341382],\n",
              "       [0.75217109],\n",
              "       [0.60246175],\n",
              "       [0.60245996],\n",
              "       [0.07721355],\n",
              "       [0.67992023],\n",
              "       [0.2302042 ],\n",
              "       [0.41420535],\n",
              "       [0.8333607 ],\n",
              "       [0.01121856],\n",
              "       [0.22687294],\n",
              "       [0.22256772],\n",
              "       [0.517822  ],\n",
              "       [0.34958919],\n",
              "       [0.5018558 ],\n",
              "       [0.88443881],\n",
              "       [0.17921003],\n",
              "       [0.57514322],\n",
              "       [0.32928048],\n",
              "       [0.8529362 ],\n",
              "       [0.4898418 ],\n",
              "       [0.57107971],\n",
              "       [0.47105856],\n",
              "       [0.54760393],\n",
              "       [0.61832985],\n",
              "       [0.15009652],\n",
              "       [0.94829696],\n",
              "       [0.09787104],\n",
              "       [0.09281608],\n",
              "       [0.23580584],\n",
              "       [0.73859856],\n",
              "       [0.32444696],\n",
              "       [0.97835857],\n",
              "       [0.47164108],\n",
              "       [0.56855692],\n",
              "       [0.58738973],\n",
              "       [0.23076194],\n",
              "       [0.47673604],\n",
              "       [0.67545686],\n",
              "       [0.1637655 ]])"
            ]
          },
          "metadata": {},
          "execution_count": 1
        }
      ]
    },
    {
      "cell_type": "code",
      "source": [
        "X = 6 * np.random.rand(100, 1)-3\n",
        "X"
      ],
      "metadata": {
        "colab": {
          "base_uri": "https://localhost:8080/"
        },
        "id": "sbR2qV-dnfBx",
        "outputId": "eab24aa6-627b-45e4-b38e-58e453ba0db4"
      },
      "execution_count": null,
      "outputs": [
        {
          "output_type": "execute_result",
          "data": {
            "text/plain": [
              "array([[ 0.37321044],\n",
              "       [-2.22214754],\n",
              "       [-1.55310096],\n",
              "       [ 0.37647591],\n",
              "       [-1.43198431],\n",
              "       [-0.18121992],\n",
              "       [-2.21945193],\n",
              "       [-1.05891875],\n",
              "       [ 2.45297887],\n",
              "       [ 0.9212691 ],\n",
              "       [-1.45320631],\n",
              "       [ 2.30664435],\n",
              "       [ 0.63997812],\n",
              "       [ 2.64274643],\n",
              "       [-0.05827581],\n",
              "       [-0.63947852],\n",
              "       [ 1.7346651 ],\n",
              "       [-0.9743566 ],\n",
              "       [ 2.12498978],\n",
              "       [ 0.8883162 ],\n",
              "       [ 2.92009441],\n",
              "       [-0.7120755 ],\n",
              "       [ 0.78015097],\n",
              "       [ 0.78298089],\n",
              "       [ 2.57686501],\n",
              "       [-0.29810515],\n",
              "       [-0.16600876],\n",
              "       [ 1.73968016],\n",
              "       [ 1.09271176],\n",
              "       [-2.09943699],\n",
              "       [ 1.47273177],\n",
              "       [-1.25893598],\n",
              "       [-2.69694647],\n",
              "       [-0.30623336],\n",
              "       [-1.19486176],\n",
              "       [-2.67259121],\n",
              "       [-0.31432679],\n",
              "       [ 2.17571693],\n",
              "       [ 1.90049971],\n",
              "       [-2.79971091],\n",
              "       [-1.1826476 ],\n",
              "       [-0.96923885],\n",
              "       [-2.14256246],\n",
              "       [-1.77028512],\n",
              "       [ 1.97937309],\n",
              "       [ 2.83732547],\n",
              "       [-0.87524657],\n",
              "       [ 2.2470083 ],\n",
              "       [-1.79559344],\n",
              "       [ 0.78045819],\n",
              "       [ 0.47972133],\n",
              "       [ 1.92050097],\n",
              "       [ 2.04375515],\n",
              "       [ 2.42807502],\n",
              "       [ 1.41305861],\n",
              "       [-1.42120323],\n",
              "       [ 2.09234902],\n",
              "       [-1.67903582],\n",
              "       [ 1.10945163],\n",
              "       [ 1.65902182],\n",
              "       [-1.54511175],\n",
              "       [ 2.67818899],\n",
              "       [-1.88639529],\n",
              "       [ 2.12978258],\n",
              "       [ 1.90070327],\n",
              "       [-0.96328101],\n",
              "       [-2.24678913],\n",
              "       [-2.13628996],\n",
              "       [-0.97547118],\n",
              "       [-2.46775461],\n",
              "       [-2.11567623],\n",
              "       [-1.36677131],\n",
              "       [ 1.11066881],\n",
              "       [ 0.37002551],\n",
              "       [-2.32935229],\n",
              "       [ 1.5994852 ],\n",
              "       [-0.57360467],\n",
              "       [-2.06174293],\n",
              "       [ 0.48537259],\n",
              "       [ 0.56767761],\n",
              "       [-2.31335046],\n",
              "       [-0.50618315],\n",
              "       [-2.26828258],\n",
              "       [ 0.62813883],\n",
              "       [ 0.53749484],\n",
              "       [-1.83739834],\n",
              "       [-2.16919796],\n",
              "       [ 2.63654026],\n",
              "       [ 1.11171217],\n",
              "       [ 1.50135085],\n",
              "       [-1.18372423],\n",
              "       [-0.32610342],\n",
              "       [ 1.50373403],\n",
              "       [ 0.67092445],\n",
              "       [ 1.74738507],\n",
              "       [-2.16894529],\n",
              "       [ 2.47485784],\n",
              "       [-2.70198386],\n",
              "       [-1.03125849],\n",
              "       [ 0.48784075]])"
            ]
          },
          "metadata": {},
          "execution_count": 2
        }
      ]
    },
    {
      "cell_type": "code",
      "source": [
        "np.random.randn(100,1)"
      ],
      "metadata": {
        "colab": {
          "base_uri": "https://localhost:8080/"
        },
        "id": "LHUQRplonvvY",
        "outputId": "d065bd69-7f5f-442c-e061-de5031fa3f26"
      },
      "execution_count": null,
      "outputs": [
        {
          "output_type": "execute_result",
          "data": {
            "text/plain": [
              "array([[-1.49135346],\n",
              "       [-0.41397248],\n",
              "       [-0.10395783],\n",
              "       [-0.69382706],\n",
              "       [-0.574555  ],\n",
              "       [ 1.47868704],\n",
              "       [ 0.20748005],\n",
              "       [-0.37745922],\n",
              "       [-0.83002091],\n",
              "       [-0.03279066],\n",
              "       [ 1.11367744],\n",
              "       [-0.31226855],\n",
              "       [ 1.44363894],\n",
              "       [-0.96995519],\n",
              "       [-2.20444536],\n",
              "       [ 0.77272946],\n",
              "       [-0.61225462],\n",
              "       [-1.17169075],\n",
              "       [ 0.9089979 ],\n",
              "       [ 1.32739077],\n",
              "       [-0.03978733],\n",
              "       [ 0.03520363],\n",
              "       [-0.23291884],\n",
              "       [ 0.2959684 ],\n",
              "       [-0.10958516],\n",
              "       [ 1.36354236],\n",
              "       [ 0.38530271],\n",
              "       [ 0.58261219],\n",
              "       [ 0.89139235],\n",
              "       [-0.66685663],\n",
              "       [ 2.01467095],\n",
              "       [ 0.12782788],\n",
              "       [-0.5178827 ],\n",
              "       [-1.36025964],\n",
              "       [-1.7113811 ],\n",
              "       [-0.28105836],\n",
              "       [-0.07957496],\n",
              "       [-1.3612487 ],\n",
              "       [ 0.94451646],\n",
              "       [-0.03494801],\n",
              "       [ 0.05353681],\n",
              "       [ 2.39535669],\n",
              "       [ 0.13342722],\n",
              "       [-1.19784447],\n",
              "       [-0.45043403],\n",
              "       [-1.48400318],\n",
              "       [-1.29086146],\n",
              "       [-1.33693794],\n",
              "       [ 0.82897195],\n",
              "       [-0.01723237],\n",
              "       [ 0.52105724],\n",
              "       [ 0.76526921],\n",
              "       [-1.77372426],\n",
              "       [ 0.68609077],\n",
              "       [-1.01032013],\n",
              "       [ 0.43702708],\n",
              "       [-0.69477123],\n",
              "       [-0.67169227],\n",
              "       [ 1.11710862],\n",
              "       [-0.20444261],\n",
              "       [ 0.44266333],\n",
              "       [-0.41982447],\n",
              "       [-0.64486821],\n",
              "       [-0.96158593],\n",
              "       [-1.3356654 ],\n",
              "       [-0.57712971],\n",
              "       [ 0.38913762],\n",
              "       [-0.1146243 ],\n",
              "       [ 1.34531835],\n",
              "       [-0.56928136],\n",
              "       [-0.64966777],\n",
              "       [-1.0153075 ],\n",
              "       [-0.27914044],\n",
              "       [ 1.23339761],\n",
              "       [-0.62676182],\n",
              "       [-1.17215035],\n",
              "       [ 0.69633079],\n",
              "       [ 1.94807544],\n",
              "       [-1.68545999],\n",
              "       [ 1.61501502],\n",
              "       [ 1.10097273],\n",
              "       [ 0.19770614],\n",
              "       [ 0.63702444],\n",
              "       [-0.25851099],\n",
              "       [ 0.74475667],\n",
              "       [-0.75559354],\n",
              "       [ 1.08937776],\n",
              "       [ 0.18238945],\n",
              "       [-2.18399235],\n",
              "       [ 1.05023189],\n",
              "       [ 0.74343338],\n",
              "       [-2.29607637],\n",
              "       [-0.58513186],\n",
              "       [ 0.06652723],\n",
              "       [ 0.1899557 ],\n",
              "       [-0.99518504],\n",
              "       [-0.89876147],\n",
              "       [ 1.51514736],\n",
              "       [ 0.40635602],\n",
              "       [-1.12479499]])"
            ]
          },
          "metadata": {},
          "execution_count": 3
        }
      ]
    },
    {
      "cell_type": "code",
      "source": [
        "y = 0.5 * X**2+X+2+ np.random.randn(100,1)\n",
        "y\n",
        "#"
      ],
      "metadata": {
        "colab": {
          "base_uri": "https://localhost:8080/"
        },
        "id": "dFhCH6C2oHM3",
        "outputId": "32f536fd-6fae-4b1e-813b-4c850208de41"
      },
      "execution_count": null,
      "outputs": [
        {
          "output_type": "execute_result",
          "data": {
            "text/plain": [
              "array([[7.41706334e-03],\n",
              "       [3.29105743e+00],\n",
              "       [2.54947265e+00],\n",
              "       [2.31986536e+00],\n",
              "       [1.44960689e+00],\n",
              "       [1.25330554e+00],\n",
              "       [2.18115169e+00],\n",
              "       [2.17775563e+00],\n",
              "       [8.20524905e+00],\n",
              "       [4.08414202e+00],\n",
              "       [2.66183787e+00],\n",
              "       [7.55532397e+00],\n",
              "       [2.99250133e+00],\n",
              "       [8.81395132e+00],\n",
              "       [2.12284732e+00],\n",
              "       [2.83692634e+00],\n",
              "       [6.30225400e+00],\n",
              "       [1.76441210e+00],\n",
              "       [5.53944533e+00],\n",
              "       [4.11798116e+00],\n",
              "       [9.39610530e+00],\n",
              "       [1.53309064e+00],\n",
              "       [2.47665601e+00],\n",
              "       [2.39967014e+00],\n",
              "       [7.75308007e+00],\n",
              "       [3.55654538e+00],\n",
              "       [8.60735319e-01],\n",
              "       [6.27374297e+00],\n",
              "       [2.62966365e+00],\n",
              "       [2.41602106e+00],\n",
              "       [4.45085269e+00],\n",
              "       [1.09066498e+00],\n",
              "       [2.23767253e+00],\n",
              "       [3.58675894e+00],\n",
              "       [1.58751619e-01],\n",
              "       [1.33243120e+00],\n",
              "       [2.76412840e+00],\n",
              "       [5.42126883e+00],\n",
              "       [4.99715633e+00],\n",
              "       [2.29222919e+00],\n",
              "       [6.41906339e-01],\n",
              "       [2.33948798e+00],\n",
              "       [3.86776558e+00],\n",
              "       [1.04687599e+00],\n",
              "       [4.66198255e+00],\n",
              "       [9.29872955e+00],\n",
              "       [7.70278211e-01],\n",
              "       [7.61206834e+00],\n",
              "       [1.91537214e+00],\n",
              "       [3.73343446e+00],\n",
              "       [1.43740407e+00],\n",
              "       [6.76504242e+00],\n",
              "       [5.85089500e+00],\n",
              "       [7.76269212e+00],\n",
              "       [3.09426644e+00],\n",
              "       [7.35622169e-02],\n",
              "       [6.51238504e+00],\n",
              "       [2.32046860e+00],\n",
              "       [4.74937743e+00],\n",
              "       [5.97636387e+00],\n",
              "       [2.57689118e+00],\n",
              "       [6.66339989e+00],\n",
              "       [1.55885454e+00],\n",
              "       [5.46572636e+00],\n",
              "       [4.33020878e+00],\n",
              "       [8.67487990e-01],\n",
              "       [1.19648892e+00],\n",
              "       [1.93096120e+00],\n",
              "       [2.51197033e+00],\n",
              "       [1.85542724e+00],\n",
              "       [2.21225861e+00],\n",
              "       [2.32720094e+00],\n",
              "       [2.62453609e+00],\n",
              "       [2.55862238e+00],\n",
              "       [3.62638805e+00],\n",
              "       [4.81322533e+00],\n",
              "       [1.22926591e+00],\n",
              "       [2.17626255e+00],\n",
              "       [2.75326671e+00],\n",
              "       [3.97030134e+00],\n",
              "       [2.13773611e+00],\n",
              "       [3.72844876e-01],\n",
              "       [3.22737230e+00],\n",
              "       [2.06314697e+00],\n",
              "       [1.39059170e+00],\n",
              "       [3.54443552e+00],\n",
              "       [2.52891884e+00],\n",
              "       [8.31606837e+00],\n",
              "       [3.12788375e+00],\n",
              "       [6.78425499e+00],\n",
              "       [2.18927372e+00],\n",
              "       [3.82004202e+00],\n",
              "       [3.96966666e+00],\n",
              "       [2.41405037e+00],\n",
              "       [5.13515768e+00],\n",
              "       [2.43783022e+00],\n",
              "       [7.06957022e+00],\n",
              "       [2.34574538e+00],\n",
              "       [1.51427288e+00],\n",
              "       [3.98206961e+00]])"
            ]
          },
          "metadata": {},
          "execution_count": 14
        }
      ]
    },
    {
      "cell_type": "code",
      "source": [
        "import seaborn as sns\n",
        "sns.scatterplot(x=X.ravel(), y=y.ravel())\n",
        "#The ravel method coverts 2d to numpy array\n",
        "#Linear graphs have straight line relationship between x and y."
      ],
      "metadata": {
        "colab": {
          "base_uri": "https://localhost:8080/",
          "height": 447
        },
        "id": "Pr1g9xQ3oX8g",
        "outputId": "07f3155a-a9fd-4a22-9e2c-6fd649381ac3"
      },
      "execution_count": null,
      "outputs": [
        {
          "output_type": "execute_result",
          "data": {
            "text/plain": [
              "<Axes: >"
            ]
          },
          "metadata": {},
          "execution_count": 5
        },
        {
          "output_type": "display_data",
          "data": {
            "text/plain": [
              "<Figure size 640x480 with 1 Axes>"
            ],
            "image/png": "[encoded data removed]"
          },
          "metadata": {}
        }
      ]
    },
    {
      "cell_type": "code",
      "source": [
        "import matplotlib.pyplot as plt\n",
        "x = list(range(10))\n",
        "y = list(range(10))\n",
        "sns.scatterplot(x=x, y=y)\n",
        "\n",
        "#Linear Graph\n",
        "#it shows the kind of relationship between x and y"
      ],
      "metadata": {
        "colab": {
          "base_uri": "https://localhost:8080/",
          "height": 447
        },
        "id": "APZRXO95oyl1",
        "outputId": "98831d8b-070b-4f8e-ae9a-837a5f48a35c"
      },
      "execution_count": null,
      "outputs": [
        {
          "output_type": "execute_result",
          "data": {
            "text/plain": [
              "<Axes: >"
            ]
          },
          "metadata": {},
          "execution_count": 6
        },
        {
          "output_type": "display_data",
          "data": {
            "text/plain": [
              "<Figure size 640x480 with 1 Axes>"
            ],
            "image/png": "[encoded data removed]"
          },
          "metadata": {}
        }
      ]
    },
    {
      "cell_type": "code",
      "source": [
        "import numpy as np\n",
        "import matplotlib.pyplot as plt\n",
        "from sklearn.linear_model import LinearRegression\n",
        "from sklearn.preprocessing import PolynomialFeatures"
      ],
      "metadata": {
        "id": "UBMkvnvnpLHc"
      },
      "execution_count": null,
      "outputs": []
    },
    {
      "cell_type": "code",
      "source": [
        "#Generating some sample data for X and y\n",
        "X = 2 * np.random.rand(100, 1) -1 #Random values for X\n",
        "y = 0.5 * X**2 + X + 2 + np.random.randn(100, 1) * 0.1 # y = 0.5 * x^2 + x + 2 + noise\n",
        "\n",
        "#Transform the features to polynomial features of degree 2\n",
        "poly_features = PolynomialFeatures(degree=2, include_bias=False)\n",
        "X_poly = poly_features.fit_transform(X)\n",
        "\n",
        "#Fit a linear regression model to the transformed features\n",
        "lin_reg = LinearRegression()\n",
        "lin_reg.fit(X_poly, y)\n",
        "\n",
        "#Print the intercept and coefficients of the polynomial regression\n",
        "print(f\"Intercept: {lin_reg.intercept_}\")\n",
        "print(f\"Coefficients: {lin_reg.coef_}\")\n",
        "\n",
        "#Create a scatter plot of the original data points\n",
        "plt.scatter(X, y, color='blue', label='Original data')\n",
        "\n",
        "#Plot the predicted polynomial curve\n",
        "X_new = np.linspace(-1, 1, 100).reshape(100, 1)  #Generate new X values for smooth plotting\n",
        "X_new_poly = poly_features.transform(X_new)       #Transform these values to polynomial features\n",
        "y_new = lin_reg.predict(X_new_poly)               #Predict using the linear regression model\n",
        "\n",
        "#Plot the predicted curve\n",
        "plt.plot(X_new, y_new, color='red', label='Polynomial regression prediction')\n",
        "\n",
        "#Adding labels and title\n",
        "plt.xlabel(\"X\")\n",
        "plt.ylabel(\"y\")\n",
        "plt.title(\"Polynomial Regression (degree=2)\")\n",
        "plt.legend()\n",
        "\n",
        "#Show the Plot\n",
        "plt.show()"
      ],
      "metadata": {
        "colab": {
          "base_uri": "https://localhost:8080/",
          "height": 507
        },
        "id": "LNcsaFBhz0W9",
        "outputId": "456a0c49-da0b-4656-ec98-d73e9ad91394"
      },
      "execution_count": null,
      "outputs": [
        {
          "output_type": "stream",
          "name": "stdout",
          "text": [
            "Intercept: [1.99637615]\n",
            "Coefficients: [[1.00376093 0.53985962]]\n"
          ]
        },
        {
          "output_type": "display_data",
          "data": {
            "text/plain": [
              "<Figure size 640x480 with 1 Axes>"
            ],
            "image/png": "[encoded data removed]"
          },
          "metadata": {}
        }
      ]
    }
  ]
}